{
 "cells": [
  {
   "cell_type": "markdown",
   "id": "51a3e201",
   "metadata": {},
   "source": [
    "#### Q1"
   ]
  },
  {
   "cell_type": "code",
   "execution_count": 9,
   "id": "66ff9f12",
   "metadata": {},
   "outputs": [
    {
     "name": "stdout",
     "output_type": "stream",
     "text": [
      "Enter a number:45\n",
      "101101\n",
      "55\n",
      "2d"
     ]
    }
   ],
   "source": [
    "num = int(input(\"Enter a number:\"))\n",
    "def PrintBinary(number):\n",
    "    binary=\"\"\n",
    "    if (number!=0):\n",
    "        while (number>=1):\n",
    "            if (number %2==0):\n",
    "                binary=binary+\"0\"\n",
    "                number=number/2\n",
    "            else:\n",
    "                binary=binary+\"1\"\n",
    "                number=(number-1)/2\n",
    "    else:\n",
    "        binary=\"0\"\n",
    "    print(\"\".join(reversed(binary)))\n",
    "\n",
    "def PrintBace8 (num):\n",
    "    if(num > 7):\n",
    "        PrintBace8(num // 8)\n",
    "    print(num % 8,end=\"\")\n",
    "    \n",
    "def PrintHex (num):\n",
    "    if(num > 15):\n",
    "        PrintEx(num // 16)\n",
    "    if(num % 16 == 15):\n",
    "        print(\"f\",end=\"\")\n",
    "    elif(num % 16==14):\n",
    "        print(\"e\",end=\"\")\n",
    "    elif(num % 16==13):\n",
    "        print(\"d\",end=\"\")\n",
    "    elif(num % 16==12):\n",
    "        print(\"c\",end=\"\")\n",
    "    elif(num % 16==11):\n",
    "        print(\"b\",end=\"\")\n",
    "    elif(num % 16==10):\n",
    "        print(\"a\",end=\"\")\n",
    "    else :\n",
    "        print(num % 16,end=\"\")\n",
    "\n",
    "PrintBinary(num)\n",
    "PrintBace8(num)\n",
    "print(\"\")\n",
    "PrintHex(num)\n",
    "\n",
    "    \n",
    "    "
   ]
  },
  {
   "cell_type": "markdown",
   "id": "4f5420d1",
   "metadata": {},
   "source": [
    "#### Q2\n"
   ]
  },
  {
   "cell_type": "code",
   "execution_count": 25,
   "id": "1be1a283",
   "metadata": {},
   "outputs": [
    {
     "name": "stdout",
     "output_type": "stream",
     "text": [
      "<class 'pandas.core.frame.DataFrame'>\n",
      "RangeIndex: 3333695 entries, 0 to 3333694\n",
      "Data columns (total 6 columns):\n",
      " #   Column     Dtype  \n",
      "---  ------     -----  \n",
      " 0   title      object \n",
      " 1   year       int64  \n",
      " 2   name       object \n",
      " 3   type       object \n",
      " 4   character  object \n",
      " 5   n          float64\n",
      "dtypes: float64(1), int64(1), object(4)\n",
      "memory usage: 152.6+ MB\n"
     ]
    }
   ],
   "source": [
    "import pandas as pd\n",
    "import numpy as np\n",
    "df_mov = pd.read_csv(\"C:\\\\Users\\\\סיטרון\\\\Downloads\\\\דאטה סט לעבודת יחיד פרוייקט גמר.txt\")\n",
    "df_cast = pd.read_csv(\"C:\\\\Users\\סיטרון\\\\Downloads\\\\cast.csv\")\n",
    "df_cast.info()"
   ]
  },
  {
   "cell_type": "markdown",
   "id": "9b8e25f4",
   "metadata": {},
   "source": [
    "#### 1."
   ]
  },
  {
   "cell_type": "code",
   "execution_count": 26,
   "id": "4f4555cd",
   "metadata": {},
   "outputs": [
    {
     "data": {
      "text/plain": [
       "19"
      ]
     },
     "execution_count": 26,
     "metadata": {},
     "output_type": "execute_result"
    }
   ],
   "source": [
    "len(df[df['title'] == \"Hamlet\"])"
   ]
  },
  {
   "cell_type": "markdown",
   "id": "6bbd61ad",
   "metadata": {},
   "source": [
    "#### 2."
   ]
  },
  {
   "cell_type": "code",
   "execution_count": 21,
   "id": "5fcd4447",
   "metadata": {},
   "outputs": [
    {
     "data": {
      "text/html": [
       "<div>\n",
       "<style scoped>\n",
       "    .dataframe tbody tr th:only-of-type {\n",
       "        vertical-align: middle;\n",
       "    }\n",
       "\n",
       "    .dataframe tbody tr th {\n",
       "        vertical-align: top;\n",
       "    }\n",
       "\n",
       "    .dataframe thead th {\n",
       "        text-align: right;\n",
       "    }\n",
       "</style>\n",
       "<table border=\"1\" class=\"dataframe\">\n",
       "  <thead>\n",
       "    <tr style=\"text-align: right;\">\n",
       "      <th></th>\n",
       "      <th>title</th>\n",
       "      <th>year</th>\n",
       "    </tr>\n",
       "  </thead>\n",
       "  <tbody>\n",
       "    <tr>\n",
       "      <th>191379</th>\n",
       "      <td>Treasure Island</td>\n",
       "      <td>1918</td>\n",
       "    </tr>\n",
       "    <tr>\n",
       "      <th>47769</th>\n",
       "      <td>Treasure Island</td>\n",
       "      <td>1920</td>\n",
       "    </tr>\n",
       "    <tr>\n",
       "      <th>192917</th>\n",
       "      <td>Treasure Island</td>\n",
       "      <td>1934</td>\n",
       "    </tr>\n",
       "    <tr>\n",
       "      <th>90175</th>\n",
       "      <td>Treasure Island</td>\n",
       "      <td>1950</td>\n",
       "    </tr>\n",
       "    <tr>\n",
       "      <th>104714</th>\n",
       "      <td>Treasure Island</td>\n",
       "      <td>1972</td>\n",
       "    </tr>\n",
       "    <tr>\n",
       "      <th>103646</th>\n",
       "      <td>Treasure Island</td>\n",
       "      <td>1973</td>\n",
       "    </tr>\n",
       "    <tr>\n",
       "      <th>190792</th>\n",
       "      <td>Treasure Island</td>\n",
       "      <td>1985</td>\n",
       "    </tr>\n",
       "    <tr>\n",
       "      <th>166675</th>\n",
       "      <td>Treasure Island</td>\n",
       "      <td>1999</td>\n",
       "    </tr>\n",
       "  </tbody>\n",
       "</table>\n",
       "</div>"
      ],
      "text/plain": [
       "                  title  year\n",
       "191379  Treasure Island  1918\n",
       "47769   Treasure Island  1920\n",
       "192917  Treasure Island  1934\n",
       "90175   Treasure Island  1950\n",
       "104714  Treasure Island  1972\n",
       "103646  Treasure Island  1973\n",
       "190792  Treasure Island  1985\n",
       "166675  Treasure Island  1999"
      ]
     },
     "execution_count": 21,
     "metadata": {},
     "output_type": "execute_result"
    }
   ],
   "source": [
    "df[df.title == 'Treasure Island'].sort_values(\"year\")"
   ]
  },
  {
   "cell_type": "markdown",
   "id": "0be9166c",
   "metadata": {},
   "source": [
    "#### 3."
   ]
  },
  {
   "cell_type": "code",
   "execution_count": 29,
   "id": "4babed90",
   "metadata": {},
   "outputs": [
    {
     "data": {
      "text/plain": [
       "9"
      ]
     },
     "execution_count": 29,
     "metadata": {},
     "output_type": "execute_result"
    }
   ],
   "source": [
    "len(df_cast[(df_cast.title == \"Hamlet\") & (df_cast.year == 1921)]) "
   ]
  },
  {
   "cell_type": "markdown",
   "id": "8923b566",
   "metadata": {},
   "source": [
    "#### 4."
   ]
  },
  {
   "cell_type": "code",
   "execution_count": 42,
   "id": "e4d10a3a",
   "metadata": {},
   "outputs": [
    {
     "data": {
      "text/plain": [
       "<AxesSubplot:xlabel='year'>"
      ]
     },
     "execution_count": 42,
     "metadata": {},
     "output_type": "execute_result"
    },
    {
     "data": {
      "image/png": "[encoded data removed]",
      "text/plain": [
       "<Figure size 432x288 with 1 Axes>"
      ]
     },
     "metadata": {
      "needs_background": "light"
     },
     "output_type": "display_data"
    }
   ],
   "source": [
    "t = df_mov[df_mov.title == \"Hamlet\"] # creating data frame with the title \"Hamlet\"\n",
    "t.groupby(t.year // 10 * 10).size().plot(kind='bar') #shows the number of \"Hamlet\" films made in each decade\n"
   ]
  },
  {
   "cell_type": "markdown",
   "id": "4402bbb0",
   "metadata": {},
   "source": [
    "#### 5."
   ]
  },
  {
   "cell_type": "code",
   "execution_count": 76,
   "id": "7f12b191",
   "metadata": {},
   "outputs": [
    {
     "data": {
      "text/plain": [
       "year  type   \n",
       "1950  actor      604\n",
       "      actress    271\n",
       "1951  actor      633\n",
       "      actress    272\n",
       "1952  actor      591\n",
       "      actress    284\n",
       "1953  actor      634\n",
       "      actress    290\n",
       "1954  actor      626\n",
       "      actress    298\n",
       "1955  actor      606\n",
       "      actress    264\n",
       "1956  actor      614\n",
       "      actress    288\n",
       "1957  actor      708\n",
       "      actress    284\n",
       "1958  actor      694\n",
       "      actress    275\n",
       "1959  actor      678\n",
       "      actress    287\n",
       "dtype: int64"
      ]
     },
     "execution_count": 76,
     "metadata": {},
     "output_type": "execute_result"
    }
   ],
   "source": [
    "df = df_cast # saving the data in a variable so I don't change it\n",
    "df = df[df.year // 10 == 195] # each year of the 1950s  \n",
    "df = df[df.n == 1] # leading roles \n",
    "df.groupby(['year', 'type']).size()\n"
   ]
  },
  {
   "cell_type": "markdown",
   "id": "297d993d",
   "metadata": {},
   "source": [
    "#### 6."
   ]
  },
  {
   "cell_type": "code",
   "execution_count": 38,
   "id": "71189a05",
   "metadata": {},
   "outputs": [
    {
     "data": {
      "text/plain": [
       "name\n",
       "Mohanlal              126\n",
       "Mammootty             118\n",
       "Akshay Kumar           87\n",
       "Jayaram                76\n",
       "Andy Lau               72\n",
       "Ajay Devgn             69\n",
       "Amitabh Bachchan       68\n",
       "Eric Roberts           68\n",
       "Nagarjuna Akkineni     60\n",
       "Dilip                  59\n",
       "dtype: int64"
      ]
     },
     "execution_count": 38,
     "metadata": {},
     "output_type": "execute_result"
    }
   ],
   "source": [
    "cast = df_cast[df_cast['year'] >= 1990] # creating data frame since the 1990's\n",
    "cast = cast[cast.n == 1] # chosing the rows with leading roles\n",
    "cast.groupby('name').size().nlargest(10) # the top 10 actors/actresses"
   ]
  },
  {
   "cell_type": "markdown",
   "id": "112237c9",
   "metadata": {},
   "source": [
    "#### 7."
   ]
  },
  {
   "cell_type": "code",
   "execution_count": 73,
   "id": "70e7f9e8",
   "metadata": {},
   "outputs": [
    {
     "data": {
      "text/html": [
       "<div>\n",
       "<style scoped>\n",
       "    .dataframe tbody tr th:only-of-type {\n",
       "        vertical-align: middle;\n",
       "    }\n",
       "\n",
       "    .dataframe tbody tr th {\n",
       "        vertical-align: top;\n",
       "    }\n",
       "\n",
       "    .dataframe thead th {\n",
       "        text-align: right;\n",
       "    }\n",
       "</style>\n",
       "<table border=\"1\" class=\"dataframe\">\n",
       "  <thead>\n",
       "    <tr style=\"text-align: right;\">\n",
       "      <th></th>\n",
       "      <th>title</th>\n",
       "      <th>year</th>\n",
       "      <th>0</th>\n",
       "    </tr>\n",
       "  </thead>\n",
       "  <tbody>\n",
       "    <tr>\n",
       "      <th>21</th>\n",
       "      <td>The Muppet Movie</td>\n",
       "      <td>1979</td>\n",
       "      <td>8</td>\n",
       "    </tr>\n",
       "    <tr>\n",
       "      <th>0</th>\n",
       "      <td>An American Werewolf in London</td>\n",
       "      <td>1981</td>\n",
       "      <td>2</td>\n",
       "    </tr>\n",
       "    <tr>\n",
       "      <th>19</th>\n",
       "      <td>The Great Muppet Caper</td>\n",
       "      <td>1981</td>\n",
       "      <td>6</td>\n",
       "    </tr>\n",
       "    <tr>\n",
       "      <th>18</th>\n",
       "      <td>The Dark Crystal</td>\n",
       "      <td>1982</td>\n",
       "      <td>2</td>\n",
       "    </tr>\n",
       "    <tr>\n",
       "      <th>22</th>\n",
       "      <td>The Muppets Take Manhattan</td>\n",
       "      <td>1984</td>\n",
       "      <td>7</td>\n",
       "    </tr>\n",
       "    <tr>\n",
       "      <th>8</th>\n",
       "      <td>Sesame Street Presents: Follow that Bird</td>\n",
       "      <td>1985</td>\n",
       "      <td>3</td>\n",
       "    </tr>\n",
       "    <tr>\n",
       "      <th>20</th>\n",
       "      <td>The Muppet Christmas Carol</td>\n",
       "      <td>1992</td>\n",
       "      <td>7</td>\n",
       "    </tr>\n",
       "    <tr>\n",
       "      <th>6</th>\n",
       "      <td>Muppet Treasure Island</td>\n",
       "      <td>1996</td>\n",
       "      <td>4</td>\n",
       "    </tr>\n",
       "    <tr>\n",
       "      <th>7</th>\n",
       "      <td>Muppets from Space</td>\n",
       "      <td>1999</td>\n",
       "      <td>4</td>\n",
       "    </tr>\n",
       "    <tr>\n",
       "      <th>16</th>\n",
       "      <td>The Adventures of Elmo in Grouchland</td>\n",
       "      <td>1999</td>\n",
       "      <td>3</td>\n",
       "    </tr>\n",
       "  </tbody>\n",
       "</table>\n",
       "</div>"
      ],
      "text/plain": [
       "                                       title  year  0\n",
       "21                          The Muppet Movie  1979  8\n",
       "0             An American Werewolf in London  1981  2\n",
       "19                    The Great Muppet Caper  1981  6\n",
       "18                          The Dark Crystal  1982  2\n",
       "22                The Muppets Take Manhattan  1984  7\n",
       "8   Sesame Street Presents: Follow that Bird  1985  3\n",
       "20                The Muppet Christmas Carol  1992  7\n",
       "6                     Muppet Treasure Island  1996  4\n",
       "7                         Muppets from Space  1999  4\n",
       "16      The Adventures of Elmo in Grouchland  1999  3"
      ]
     },
     "execution_count": 73,
     "metadata": {},
     "output_type": "execute_result"
    }
   ],
   "source": [
    "\n",
    "df = df_cast[df_cast.name=='Frank Oz'].groupby(['title','year']).size().reset_index() #creating data frame with the rows that have Frank Oz \n",
    "                                                                                      # and adding the 'title' and 'year' colomn \n",
    "df = df[df[0]>1].sort_values('year') #chosing the rows that have more then 1 appearance\n",
    "df\n"
   ]
  },
  {
   "cell_type": "code",
   "execution_count": null,
   "id": "8163b16a",
   "metadata": {},
   "outputs": [],
   "source": []
  }
 ],
 "metadata": {
  "kernelspec": {
   "display_name": "Python 3",
   "language": "python",
   "name": "python3"
  },
  "language_info": {
   "codemirror_mode": {
    "name": "ipython",
    "version": 3
   },
   "file_extension": ".py",
   "mimetype": "text/x-python",
   "name": "python",
   "nbconvert_exporter": "python",
   "pygments_lexer": "ipython3",
   "version": "3.8.8"
  }
 },
 "nbformat": 4,
 "nbformat_minor": 5
}
